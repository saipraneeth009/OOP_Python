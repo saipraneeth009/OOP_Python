{
 "cells": [
  {
   "cell_type": "markdown",
   "id": "a37c5439",
   "metadata": {},
   "source": [
    "## Constructors and Deconstructors in Python"
   ]
  },
  {
   "cell_type": "markdown",
   "id": "51a7c03b",
   "metadata": {},
   "source": [
    "# constructors"
   ]
  },
  {
   "cell_type": "markdown",
   "id": "d78cdb92",
   "metadata": {},
   "source": [
    "**1. Constructors:**\n",
    "\n",
    "> A constructor is a special method in a class that is automatically called when an object is created. It's used to initialize the object's attributes."
   ]
  },
  {
   "cell_type": "markdown",
   "id": "e97b2396",
   "metadata": {},
   "source": [
    "**Interview-Worthy Answer:**\n",
    "\n",
    "> In Python, a constructor is a special method called `__init__` that initializes an object when it is created. It allows setting up instance variables and ensures the object starts in a valid state. It runs automatically when I create an object of a class."
   ]
  },
  {
   "cell_type": "markdown",
   "id": "3365efab",
   "metadata": {},
   "source": [
    "In python, the constructor is defined using the special method:\n",
    "\n",
    "`def __init__(self, ...):`\n",
    "\n",
    "* Purpose:\n",
    "\n",
    "> Set default or user-defined values to the object at creation time.\n",
    "\n",
    "> Allocate necessary resources"
   ]
  },
  {
   "cell_type": "code",
   "execution_count": 1,
   "id": "dd683a58",
   "metadata": {},
   "outputs": [
    {
     "data": {
      "text/plain": [
       "\"Hi, i'm Sai and I'm 24 years old.\""
      ]
     },
     "execution_count": 1,
     "metadata": {},
     "output_type": "execute_result"
    }
   ],
   "source": [
    "# Constructor Example:\n",
    "\n",
    "class Person:\n",
    "    def __init__(self, name, age): # this line is the constructor\n",
    "        self.name = name\n",
    "        self.age = age\n",
    "        \n",
    "    def introduce(self):\n",
    "        return f\"Hi, i'm {self.name} and I'm {self.age} years old.\"\n",
    "\n",
    "# creating object\n",
    "p1 = Person(\"Sai\", 24)\n",
    "p1.introduce()"
   ]
  },
  {
   "cell_type": "markdown",
   "id": "a06550b1",
   "metadata": {},
   "source": [
    "**Constructor Overloading**\n",
    "\n",
    "> Python does not support traditional constructor overloading like Java or C++. But you can mimic it using default arguments or `*args`, `**kwargs`"
   ]
  },
  {
   "cell_type": "code",
   "execution_count": 2,
   "id": "752f30ea",
   "metadata": {},
   "outputs": [],
   "source": [
    "#example\n",
    "class Example:\n",
    "    def __init__(self, x=0, y=0):\n",
    "        self.x = x\n",
    "        self.y = y"
   ]
  },
  {
   "cell_type": "markdown",
   "id": "cd6ea6bf",
   "metadata": {},
   "source": [
    "# Destructors"
   ]
  },
  {
   "cell_type": "markdown",
   "id": "21ca8225",
   "metadata": {},
   "source": [
    "**Destructors**\n",
    "\n",
    "> Destructor is a method that is automatically called when an object is about to be destroyed (i.e., when there is no more references to it). it's used to clean up resources like files or network connections."
   ]
  },
  {
   "cell_type": "markdown",
   "id": "7f5749b6",
   "metadata": {},
   "source": [
    "**Interview-Worthy Answer**\n",
    "\n",
    "> In Python, a destructor is defined using the `__del__` method and is automatically invoked when an object is about to be destroyed. It’s useful for releasing external resources like file handles, network connections, or memory buffers. However, since Python uses garbage collection, destructors should be used cautiously and only when necessary."
   ]
  },
  {
   "cell_type": "markdown",
   "id": "e4c50864",
   "metadata": {},
   "source": [
    "In Python, it is defined using:\n",
    "\n",
    "`def __del__(self):`\n",
    "\n",
    "> *Note*: Unlike constructors, destructors are less predictable because python uses garbage collection, so the exact time of object destruction isn't guaranteed."
   ]
  },
  {
   "cell_type": "code",
   "execution_count": 3,
   "metadata": {},
   "outputs": [
    {
     "name": "stdout",
     "output_type": "stream",
     "text": [
      "File opened.\n",
      "file closed.\n"
     ]
    }
   ],
   "source": [
    "# Destructor example\n",
    "\n",
    "class FileManager:\n",
    "    def __init__(self, filename):\n",
    "        self.file = open(filename, \"w\")\n",
    "        print(\"File opened.\")\n",
    "        \n",
    "    def write(self, text):\n",
    "        self.file.write(text)\n",
    "    \n",
    "    def __del__(self): # this line is the Destructor\n",
    "        self.file.close()\n",
    "        print(\"file closed.\")\n",
    "        \n",
    "fm = FileManager(r\"C:\\Users\\saipr\\Desktop\\python\\oops\\test.txt\")\n",
    "fm.write(\"hello there\")\n",
    "\n",
    "del fm # Explicitly calling destructor (optional in most cases)"
   ]
  },
  {
   "cell_type": "code",
   "execution_count": null,
   "id": "afc42951",
   "metadata": {},
   "outputs": [],
   "source": []
  },
  {
   "cell_type": "code",
   "execution_count": null,
   "id": "779229b4",
   "metadata": {},
   "outputs": [],
   "source": []
  }
 ],
 "metadata": {
  "kernelspec": {
   "display_name": "Python 3",
   "language": "python",
   "name": "python3"
  },
  "language_info": {
   "codemirror_mode": {
    "name": "ipython",
    "version": 3
   },
   "file_extension": ".py",
   "mimetype": "text/x-python",
   "name": "python",
   "nbconvert_exporter": "python",
   "pygments_lexer": "ipython3",
   "version": "3.11.0"
  }
 },
 "nbformat": 4,
 "nbformat_minor": 5
}
