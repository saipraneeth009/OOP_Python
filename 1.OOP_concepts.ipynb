{
 "cells": [
  {
   "cell_type": "markdown",
   "id": "8eb55241",
   "metadata": {},
   "source": [
    "## What is Object-Oriented Programming (OOP)?"
   ]
  },
  {
   "cell_type": "markdown",
   "id": "ee63c948",
   "metadata": {},
   "source": [
    "OOP is a programming paradigm based on the concept of \"objects\", which can contain data (attributes) and code (methods). It allows for structuring programs so that properties and behaviors are bundled into individual objects."
   ]
  },
  {
   "cell_type": "markdown",
   "id": "9f5bd50e",
   "metadata": {},
   "source": [
    "# Why use OOP?"
   ]
  },
  {
   "cell_type": "markdown",
   "id": "a8fd1a2c",
   "metadata": {},
   "source": [
    "> *Modularity*: Code is organized into classes.\n",
    "\n",
    "> *Reusability*: Classes can be reused via inheritance.\n",
    "\n",
    "> *Scalability*: Easier to maintain and scale.\n",
    "\n",
    "> *Abstraction*: Hides complex logic from the user.\n",
    "\n",
    "> *Encapsulation*: Protects data by restricting access.\n",
    "\n",
    "> *Polymorphism*: Same interface, different behavior."
   ]
  },
  {
   "cell_type": "markdown",
   "id": "6cce73eb",
   "metadata": {},
   "source": [
    "## Core Concepts of OOP (Pillars of OOP)"
   ]
  },
  {
   "attachments": {
    "oops_pillars.png": {
     "image/png": "[encoded data removed]"
    }
   },
   "cell_type": "markdown",
   "id": "ebb4ffee",
   "metadata": {},
   "source": [
    "![oops_pillars.png](attachment:oops_pillars.png)"
   ]
  },
  {
   "cell_type": "markdown",
   "id": "288cc128",
   "metadata": {},
   "source": [
    "  **1.  Class and objects**:\n",
    "\n",
    ">*class*: A blue print for creating objects\n",
    "\n",
    ">*object*: An instance of a class "
   ]
  },
  {
   "cell_type": "code",
   "execution_count": 1,
   "id": "436483be",
   "metadata": {},
   "outputs": [
    {
     "name": "stdout",
     "output_type": "stream",
     "text": [
      "Martin says woof!\n"
     ]
    }
   ],
   "source": [
    "class Dog:\n",
    "    def __init__(self, name):\n",
    "        self.name = name\n",
    "    \n",
    "    def bark(self):\n",
    "        print(f\"{self.name} says woof!\")\n",
    "    \n",
    "dog1 = Dog(\"Martin\")\n",
    "dog1.bark()"
   ]
  },
  {
   "cell_type": "markdown",
   "id": "b2eca93c",
   "metadata": {},
   "source": [
    "**2. Encapsulation**\n",
    "\n",
    ">Hides internal object details.\n",
    "\n",
    ">Uses private attributes/methods to restrict access.\n",
    "\n",
    "> __(attribute) make the attribute private"
   ]
  },
  {
   "cell_type": "markdown",
   "id": "70d0b07e",
   "metadata": {},
   "source": [
    "* **Note**\n",
    "\n",
    "*interview tip*: Use encapsulation to ensure security and control over data access"
   ]
  },
  {
   "cell_type": "code",
   "execution_count": 14,
   "id": "0b0e9532",
   "metadata": {},
   "outputs": [
    {
     "name": "stdout",
     "output_type": "stream",
     "text": [
      "balance: 500\n",
      "bank deposit: 1200\n",
      "new balance: 1200\n"
     ]
    }
   ],
   "source": [
    "class BankAccount:\n",
    "    def __init__(self, balance):\n",
    "        self.__balance = balance # __ makes the attribute private\n",
    "        print(f\"balance: {self.__balance}\")\n",
    "    \n",
    "    def deposit(self, amount):\n",
    "        self.__balance += amount\n",
    "        return f\"bank deposit: {self.__balance}\"\n",
    "    \n",
    "    def get_balance(self):\n",
    "        return f\"new balance: {self.__balance}\"\n",
    "    \n",
    "    \n",
    "acc1 = BankAccount(500)\n",
    "\n",
    "deposit = acc1.deposit(700)\n",
    "print(deposit)\n",
    "\n",
    "balance = acc1.get_balance()\n",
    "print(balance)\n"
   ]
  },
  {
   "cell_type": "markdown",
   "id": "0763cad4",
   "metadata": {},
   "source": [
    "**3. Inheritance**\n",
    "\n",
    "> Enalbes a class (child) to inherit from another class (parent)\n",
    "\n",
    "> Promotes code reuse"
   ]
  },
  {
   "cell_type": "markdown",
   "id": "5fca5e7c",
   "metadata": {},
   "source": [
    "**Types of Inheritance in Python:**\n",
    "\n",
    "> Single (one parent)\n",
    "\n",
    "> Multiple (multi parent)\n",
    "\n",
    "> Multilevel (Grandparent → parent → child)\n",
    "\n",
    "> Hierarchical (one parent → multiple children)\n",
    "\n",
    "> Hybrid (combination)"
   ]
  },
  {
   "cell_type": "code",
   "execution_count": 17,
   "id": "614c1e15",
   "metadata": {},
   "outputs": [
    {
     "name": "stdout",
     "output_type": "stream",
     "text": [
      "Dog Barks!\n",
      "cat meows!\n"
     ]
    }
   ],
   "source": [
    "class Animal:\n",
    "    def speak(self):\n",
    "        # print(\"Animal speaks\")\n",
    "        pass\n",
    "    \n",
    "class Dog(Animal):\n",
    "    def speak(self):\n",
    "        print(\"Dog Barks!\")\n",
    "        \n",
    "class Cat(Animal):\n",
    "    def speak(self):\n",
    "        print(\"cat meows!\")\n",
    "        \n",
    "dog = Dog()\n",
    "dog.speak()\n",
    "\n",
    "cat = Cat()\n",
    "cat.speak()"
   ]
  },
  {
   "cell_type": "markdown",
   "id": "a431a22b",
   "metadata": {},
   "source": [
    "**4. Polymorphism**\n",
    "\n",
    "> *\"Many Forms\"* → same method name, different behaviour."
   ]
  },
  {
   "cell_type": "markdown",
   "id": "5120c97e",
   "metadata": {},
   "source": [
    "*Types of Polymorphism:* \n",
    "\n",
    "> Compiler-time (overloading) - Not directly supported in python =, but mimicked\n",
    "\n",
    "> run-time (overriding) "
   ]
  },
  {
   "cell_type": "markdown",
   "id": "08961713",
   "metadata": {},
   "source": [
    "* **Compiler-time (overloading)**"
   ]
  },
  {
   "cell_type": "code",
   "execution_count": 35,
   "id": "e726ef92",
   "metadata": {},
   "outputs": [
    {
     "name": "stdout",
     "output_type": "stream",
     "text": [
      "Hello\n"
     ]
    }
   ],
   "source": [
    "class Greet:\n",
    "    def hello(self, name = None):\n",
    "    # def hello(self, name):\n",
    "        if name:\n",
    "            print(f\"Hello {name}\")\n",
    "        else:\n",
    "            print(\"Hello\")\n",
    "            \n",
    "name = Greet()\n",
    "# name.hello(\"sai\")\n",
    "name.hello()\n"
   ]
  },
  {
   "cell_type": "markdown",
   "id": "e97660be",
   "metadata": {},
   "source": [
    "* **Run-time (overriding)**"
   ]
  },
  {
   "cell_type": "code",
   "execution_count": 40,
   "id": "60b01c17",
   "metadata": {},
   "outputs": [
    {
     "name": "stdout",
     "output_type": "stream",
     "text": [
      "bird can fly\n",
      "Ostrich can't fly\n"
     ]
    }
   ],
   "source": [
    "class Bird:\n",
    "    def fly(self):\n",
    "        print(\"bird can fly\")\n",
    "        \n",
    "class Ostrich(Bird):\n",
    "    def fly(self):\n",
    "        print(\"Ostrich can't fly\")\n",
    "        \n",
    "bird = Bird()\n",
    "bird.fly()\n",
    "\n",
    "ostrich = Ostrich()\n",
    "ostrich.fly()"
   ]
  },
  {
   "cell_type": "markdown",
   "id": "3997f17f",
   "metadata": {},
   "source": [
    "**5. Abstraction**\n",
    "\n",
    "> Hides unnecessary implementation details.\n",
    "\n",
    "> done using  Abstract Base Classes (ABC) library in python."
   ]
  },
  {
   "cell_type": "code",
   "execution_count": 41,
   "id": "abce5657",
   "metadata": {},
   "outputs": [
    {
     "name": "stdout",
     "output_type": "stream",
     "text": [
      "car engine started\n"
     ]
    }
   ],
   "source": [
    "from abc import ABC, abstractmethod\n",
    "\n",
    "class Vehicle(ABC):\n",
    "    @abstractmethod\n",
    "    def start_engine(self):\n",
    "        pass\n",
    "\n",
    "class Car(Vehicle):\n",
    "    def start_engine(self):\n",
    "        print(\"car engine started\")\n",
    "        \n",
    "\n",
    "car = Car()\n",
    "car.start_engine()"
   ]
  },
  {
   "cell_type": "markdown",
   "id": "aa49c7c3",
   "metadata": {},
   "source": [
    "## Additional OOP concepts in Python"
   ]
  },
  {
   "cell_type": "markdown",
   "id": "20e5e004",
   "metadata": {},
   "source": [
    "**1. Constructor and `__init__()`**\n",
    "\n",
    "> Automatically called when object is created."
   ]
  },
  {
   "cell_type": "code",
   "execution_count": 42,
   "id": "6dfbeedb",
   "metadata": {},
   "outputs": [],
   "source": [
    "class Person:\n",
    "    def __init__(self, name):\n",
    "        self.name = name"
   ]
  },
  {
   "cell_type": "code",
   "execution_count": 46,
   "id": "dd024fbe",
   "metadata": {},
   "outputs": [
    {
     "name": "stdout",
     "output_type": "stream",
     "text": [
      "<__main__.Person object at 0x000002218AF2E290>\n"
     ]
    }
   ],
   "source": [
    "# using the above class\n",
    "p1 = Person(\"sai\")\n",
    "print(p1)"
   ]
  },
  {
   "cell_type": "markdown",
   "id": "c050234a",
   "metadata": {},
   "source": [
    "<__main__.Person object at \"address location alocated in memory\"> → denotes class name and location in memory"
   ]
  },
  {
   "cell_type": "markdown",
   "id": "7bd92c77",
   "metadata": {},
   "source": [
    "**2. `self` Keyword**\n",
    "\n",
    "> Refers to the instance of the class\n",
    "\n",
    "> Used to access attributes and methods."
   ]
  },
  {
   "cell_type": "markdown",
   "id": "5a00f2ea",
   "metadata": {},
   "source": [
    "**3. Method types**\n",
    "\n",
    "| Type            | Decorator       | Access                    |\n",
    "| --------------- | --------------- | ------------------------- |\n",
    "| Instance Method | None            | Needs `self`              |\n",
    "| Class Method    | `@classmethod`  | Needs `cls`               |\n",
    "| Static Method   | `@staticmethod` | No `self` or `cls` needed |\n"
   ]
  },
  {
   "cell_type": "code",
   "execution_count": 66,
   "id": "f25650ec",
   "metadata": {},
   "outputs": [
    {
     "name": "stdout",
     "output_type": "stream",
     "text": [
      "15\n"
     ]
    }
   ],
   "source": [
    "#instance method\n",
    "class Math:\n",
    "    def __init__(self, a, b):\n",
    "        self.a = a\n",
    "        self.b = b\n",
    "        \n",
    "    def multi(self):\n",
    "        return self.a * self.b\n",
    "    \n",
    "m0 = Math(5, 3)\n",
    "result = m0.multi()\n",
    "print(result)"
   ]
  },
  {
   "cell_type": "code",
   "execution_count": 58,
   "id": "851f01ef",
   "metadata": {},
   "outputs": [
    {
     "data": {
      "text/plain": [
       "-2"
      ]
     },
     "execution_count": 58,
     "metadata": {},
     "output_type": "execute_result"
    }
   ],
   "source": [
    "#class method\n",
    "class Math:\n",
    "    @classmethod\n",
    "    def sub(cls, x, y):\n",
    "        return x - y\n",
    "    \n",
    "m1 = Math()\n",
    "m1.sub(4, 6)"
   ]
  },
  {
   "cell_type": "code",
   "execution_count": 59,
   "id": "70793bbc",
   "metadata": {},
   "outputs": [
    {
     "data": {
      "text/plain": [
       "8"
      ]
     },
     "execution_count": 59,
     "metadata": {},
     "output_type": "execute_result"
    }
   ],
   "source": [
    "#static method\n",
    "class Math:\n",
    "    @staticmethod\n",
    "    def add(x, y):\n",
    "        return x + y\n",
    "    \n",
    "m2 = Math()\n",
    "m2.add(3, 5)"
   ]
  },
  {
   "cell_type": "markdown",
   "id": "9f47cee2",
   "metadata": {},
   "source": [
    "**4. Access Modifiers**\n",
    "\n",
    "| Modifier  | Syntax | Scope               |\n",
    "| --------- | ------ | ------------------- |\n",
    "| Public    | `x`    | Accessible anywhere |\n",
    "| Protected | `_x`   | Internal use        |\n",
    "| Private   | `__x`  | Name mangling       |\n"
   ]
  },
  {
   "cell_type": "code",
   "execution_count": 67,
   "id": "66328eb6",
   "metadata": {},
   "outputs": [],
   "source": [
    "class BankAccount:\n",
    "    def __init__(self, balance):\n",
    "        self.__balance = balance"
   ]
  },
  {
   "cell_type": "code",
   "execution_count": 68,
   "id": "a2287e8e",
   "metadata": {},
   "outputs": [],
   "source": [
    "class Vehicle:\n",
    "    def __init__(self, engine):\n",
    "        self._engine = engine"
   ]
  },
  {
   "cell_type": "code",
   "execution_count": 69,
   "id": "d05b4229",
   "metadata": {},
   "outputs": [],
   "source": [
    "class Animal:\n",
    "    def __init__(self, walk):\n",
    "        self.walk = walk"
   ]
  },
  {
   "cell_type": "markdown",
   "id": "a61d95de",
   "metadata": {},
   "source": [
    "**5. Dunder (Magic) Methods**\n",
    "\n",
    "> Special methods like `__str__`, `__len__`,`__add__` etc"
   ]
  },
  {
   "cell_type": "code",
   "execution_count": 71,
   "id": "26451e06",
   "metadata": {},
   "outputs": [
    {
     "name": "stdout",
     "output_type": "stream",
     "text": [
      "book: Thor\n"
     ]
    }
   ],
   "source": [
    "class Book:\n",
    "    def __init__(self, title):\n",
    "        self.title = title\n",
    "        \n",
    "    def __str__(self):\n",
    "        return f\"book: {self.title}\"\n",
    "\n",
    "book = Book(\"Thor\")\n",
    "print(book)"
   ]
  },
  {
   "cell_type": "code",
   "execution_count": null,
   "id": "410f053f",
   "metadata": {},
   "outputs": [],
   "source": []
  }
 ],
 "metadata": {
  "kernelspec": {
   "display_name": "Python 3",
   "language": "python",
   "name": "python3"
  },
  "language_info": {
   "codemirror_mode": {
    "name": "ipython",
    "version": 3
   },
   "file_extension": ".py",
   "mimetype": "text/x-python",
   "name": "python",
   "nbconvert_exporter": "python",
   "pygments_lexer": "ipython3",
   "version": "3.11.0"
  }
 },
 "nbformat": 4,
 "nbformat_minor": 5
}
