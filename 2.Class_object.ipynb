{
 "cells": [
  {
   "cell_type": "markdown",
   "id": "280d3470",
   "metadata": {},
   "source": [
    "### Class and Object"
   ]
  },
  {
   "cell_type": "markdown",
   "id": "87e1c65d",
   "metadata": {},
   "source": [
    "> Class and Object are the foundation of OOP. Everything in OOP is built upon them"
   ]
  },
  {
   "cell_type": "markdown",
   "id": "eb13db4b",
   "metadata": {},
   "source": [
    "**Interview-Worthy Explanation:**\n",
    "\n",
    "> In Python, a class is like a template that defines the structure and behavior of future objects. When I create an object from a class, it holds its own state and can execute the class-defined methods. For example, if I have a class Car, I can create multiple objects like car1 and car2, each with their own brand and model. The concept allows for modular, scalable, and reusable code.\n"
   ]
  },
  {
   "cell_type": "markdown",
   "id": "79cf6b6e",
   "metadata": {},
   "source": [
    "**Real-world Analogy**\n",
    "\n",
    "Think of:\n",
    "* *Class* = A blueprint of a house.\n",
    "* *Object* = An actual house built from that blueprint."
   ]
  },
  {
   "cell_type": "markdown",
   "id": "b8c57da7",
   "metadata": {},
   "source": [
    "**Class**\n",
    "\n",
    "> Class is a user-friendly blueprint or prototype from which objects are created. It defines the structure and behaviour (attribute and methods) that the objects created from it will have.\n",
    "\n",
    "> You can think of a class like a Cookie cutter -  it defines the shape, but the actual cookie (objects) are made using that shape."
   ]
  },
  {
   "cell_type": "markdown",
   "id": "3c89c56f",
   "metadata": {},
   "source": [
    "*syntax:*\n",
    "\n",
    "class Classname:\n",
    "\n",
    "----attribute (variables)\n",
    "\n",
    "----methods (functions)"
   ]
  },
  {
   "cell_type": "markdown",
   "id": "ee853f27",
   "metadata": {},
   "source": [
    "**Object**\n",
    "\n",
    "> Object is an instance of a class. It is a real entity that holds values for the attributes defined in the class and can use its methods."
   ]
  },
  {
   "cell_type": "markdown",
   "id": "826bf20e",
   "metadata": {},
   "source": [
    "*syntax:*\n",
    "\n",
    "object_name = Classname()"
   ]
  },
  {
   "cell_type": "code",
   "execution_count": 1,
   "id": "189d625c",
   "metadata": {},
   "outputs": [
    {
     "name": "stdout",
     "output_type": "stream",
     "text": [
      "Tayota Camry engine started\n",
      "Honda Civic engine started\n"
     ]
    }
   ],
   "source": [
    "# example:\n",
    "\n",
    "class Car:\n",
    "    def __init__(self, brand, model):\n",
    "        self.brand = brand\n",
    "        self.model = model\n",
    "        \n",
    "    def start_engine(self):\n",
    "        print(f\"{self.brand} {self.model} engine started\")\n",
    "        \n",
    "car1 = Car(\"Tayota\", \"Camry\")\n",
    "car2 = Car(\"Honda\", \"Civic\")\n",
    "\n",
    "car1.start_engine()\n",
    "car2.start_engine()"
   ]
  },
  {
   "cell_type": "markdown",
   "id": "636c9443",
   "metadata": {},
   "source": [
    "here:\n",
    "* `Car` is the class.\n",
    "* `car1` and `car2` are objects (instance) of the class.\n",
    "* `__init__()` is the constructor, which sets up initial values.\n",
    "* `self` represents the current object."
   ]
  },
  {
   "cell_type": "markdown",
   "id": "3c7d2410",
   "metadata": {},
   "source": [
    "**Key Points:**\n",
    "\n",
    "| Term       | Description                                                      |\n",
    "| ---------- | ---------------------------------------------------------------- |\n",
    "| Class      | Blueprint or template                                            |\n",
    "| Object     | Instance of a class                                              |\n",
    "| Attributes | Object-specific data (variables)                                 |\n",
    "| Methods    | Functions defined in a class                                     |\n",
    "| `__init__` | Constructor method (called automatically when object is created) |\n",
    "| `self`     | Refers to the instance of the class                              |\n"
   ]
  },
  {
   "cell_type": "markdown",
   "id": "483703f3",
   "metadata": {},
   "source": [
    "*example problem:*\n",
    "\n",
    ">Create a class Book with attributes like title, author, and pages. Add a method read() that prints a message using those attributes. Then, create two Book objects with different data and call read() on both."
   ]
  },
  {
   "cell_type": "code",
   "execution_count": 5,
   "id": "c933704e",
   "metadata": {},
   "outputs": [
    {
     "name": "stdout",
     "output_type": "stream",
     "text": [
      "Stan-lee wrote a comic titled Spider-man with 50 pages\n",
      "Robert Kirkman wrote a comic titled Invincible with 70 pages\n"
     ]
    }
   ],
   "source": [
    "class Book:\n",
    "    def __init__(self, title, author, pages):\n",
    "        self.title = title\n",
    "        self.author = author\n",
    "        self.pages = pages\n",
    "        \n",
    "    def read(self):\n",
    "        return f\"{self.author} wrote a comic titled {self.title} with {self.pages} pages\"\n",
    "    \n",
    "book1 = Book(\"Spider-man\", \"Stan-lee\", 50)\n",
    "book2 = Book(\"Invincible\", \"Robert Kirkman\", 70)\n",
    "\n",
    "print(book1.read())\n",
    "print(book2.read())"
   ]
  }
 ],
 "metadata": {
  "kernelspec": {
   "display_name": "Python 3",
   "language": "python",
   "name": "python3"
  },
  "language_info": {
   "codemirror_mode": {
    "name": "ipython",
    "version": 3
   },
   "file_extension": ".py",
   "mimetype": "text/x-python",
   "name": "python",
   "nbconvert_exporter": "python",
   "pygments_lexer": "ipython3",
   "version": "3.11.0"
  }
 },
 "nbformat": 4,
 "nbformat_minor": 5
}
